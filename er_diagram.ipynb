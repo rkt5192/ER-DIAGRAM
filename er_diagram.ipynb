{
  "nbformat": 4,
  "nbformat_minor": 0,
  "metadata": {
    "colab": {
      "name": "er diagram ",
      "provenance": [],
      "collapsed_sections": [],
      "authorship_tag": "ABX9TyMxf3BH1jJMAAImRDjz1N5N",
      "include_colab_link": true
    },
    "kernelspec": {
      "name": "python3",
      "display_name": "Python 3"
    }
  },
  "cells": [
    {
      "cell_type": "markdown",
      "metadata": {
        "id": "view-in-github",
        "colab_type": "text"
      },
      "source": [
        "<a href=\"https://colab.research.google.com/github/rkt5192/ER-DIAGRAM/blob/master/er_diagram.ipynb\" target=\"_parent\"><img src=\"https://colab.research.google.com/assets/colab-badge.svg\" alt=\"Open In Colab\"/></a>"
      ]
    },
    {
      "cell_type": "code",
      "metadata": {
        "id": "gJwdAUw_zMJT",
        "colab_type": "code",
        "colab": {}
      },
      "source": [
        ""
      ],
      "execution_count": 0,
      "outputs": []
    },
    {
      "cell_type": "code",
      "metadata": {
        "id": "rRNxncbrKmy0",
        "colab_type": "code",
        "colab": {}
      },
      "source": [
        ""
      ],
      "execution_count": 0,
      "outputs": []
    },
    {
      "cell_type": "markdown",
      "metadata": {
        "id": "u0uIGIx10YuN",
        "colab_type": "text"
      },
      "source": [
        "I created my entity relationship diagram using six tables: pet food, enclosures, animal, purchases, loyalty program, and supplies. Attributes I added for pet food other than the primary key included animal type, whether it was in liquid form or solid form, and the size of the food. As for the enclosure, attributes I included animal type, whether it was an aquarium or terrarium, and the enclosure size. For the animal entity, the attributes were animal type, animal age, and animal classification (Kingdom, Phylum, etc.). For the purchases entity, (disregarding the primary key), I added quantity, discounts, and the date as attributes. For supplies other than the primary key, attributes I added was the supply type, animal type, and the quantity of supplies. For the loyalty program, I added basic customer information for attributes: email, home address, cell phone number, and whether they are purchasing a pet or food. The primary key for everything other than the loyalty program and purchases was the product ID, which allows the item to be easily identified and is consistent across these entities. The primary key for the loyalty program and purchases was the customer ID as this piece of information is needed for both these entities. The foreign key I added was the animal type. I decided to make this the foreign key as it was needed and used in all the entities other than the loyalty program and purchase. A majority of my relationships were one to many, as there is no limit to the number of items you can buy. However, for the enclosure to animal, I made the relationship many-to-many, as there can be as many animals to as many enclosures."
      ]
    },
    {
      "cell_type": "markdown",
      "metadata": {
        "id": "NUyrh3HV02bp",
        "colab_type": "text"
      },
      "source": [
        "![alt text](https://github.com/rkt5192/ER-DIAGRAM/blob/master/completeER.png?raw=true)"
      ]
    }
  ]
}